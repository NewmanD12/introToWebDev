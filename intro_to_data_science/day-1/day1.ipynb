values = [90,88,85,80,84,92,90,93,87,94]

def calcMean(list):
  return sum(list)/len(list)

# print(f'the mean/average is {calcMean(values)}')    


# list comprehesion
grade = [i for i in values if i % 2 == 0] 
# print(grade)

def findEven(list):
  evenList = []
  for i in range(len(list)):
    if(list[i] % 2 == 0):
      evenList.append(list[i])
  print(evenList)
  return evenList

findEven(values)
